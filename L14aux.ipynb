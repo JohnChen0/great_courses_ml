{
 "cells": [
  {
   "cell_type": "markdown",
   "metadata": {
    "colab_type": "text",
    "id": "XcV9bp_VhCIP"
   },
   "source": [
    "This notebook shows how to build the VGG16 network in Keras."
   ]
  },
  {
   "cell_type": "markdown",
   "metadata": {
    "colab_type": "text",
    "id": "DHEe8jMxoB78"
   },
   "source": [
    "A VGG-16 model consists of a series of 14 convolutional layers, `Conv2D`, interspersed with max pooling layers, `MaxPooling2D`. After these layers, it includes 3 fully connected, `Dense`, layers ending with the output layer."
   ]
  },
  {
   "cell_type": "code",
   "execution_count": null,
   "metadata": {
    "colab": {
     "base_uri": "https://localhost:8080/",
     "height": 918
    },
    "colab_type": "code",
    "executionInfo": {
     "elapsed": 10737,
     "status": "ok",
     "timestamp": 1594139203116,
     "user": {
      "displayName": "Michael Littman",
      "photoUrl": "https://lh3.googleusercontent.com/a-/AOh14Gh1OI1zp1NevMSZ87UN47k8bTZ--Ijr4v3ORV33Vg=s64",
      "userId": "06751891446459829367"
     },
     "user_tz": 240
    },
    "id": "meUrpSEQFqAS",
    "outputId": "250668a9-d85f-4e9c-8e9c-7c50cb26a535"
   },
   "outputs": [
    {
     "name": "stderr",
     "output_type": "stream",
     "text": [
      "Using TensorFlow backend.\n"
     ]
    },
    {
     "name": "stdout",
     "output_type": "stream",
     "text": [
      "Model: \"sequential_1\"\n",
      "_________________________________________________________________\n",
      "Layer (type)                 Output Shape              Param #   \n",
      "=================================================================\n",
      "conv2d_1 (Conv2D)            (None, 224, 224, 64)      1792      \n",
      "_________________________________________________________________\n",
      "conv2d_2 (Conv2D)            (None, 224, 224, 64)      36928     \n",
      "_________________________________________________________________\n",
      "max_pooling2d_1 (MaxPooling2 (None, 112, 112, 64)      0         \n",
      "_________________________________________________________________\n",
      "conv2d_3 (Conv2D)            (None, 112, 112, 128)     73856     \n",
      "_________________________________________________________________\n",
      "conv2d_4 (Conv2D)            (None, 112, 112, 128)     147584    \n",
      "_________________________________________________________________\n",
      "max_pooling2d_2 (MaxPooling2 (None, 56, 56, 128)       0         \n",
      "_________________________________________________________________\n",
      "conv2d_5 (Conv2D)            (None, 56, 56, 256)       295168    \n",
      "_________________________________________________________________\n",
      "conv2d_6 (Conv2D)            (None, 56, 56, 256)       590080    \n",
      "_________________________________________________________________\n",
      "conv2d_7 (Conv2D)            (None, 56, 56, 256)       590080    \n",
      "_________________________________________________________________\n",
      "max_pooling2d_3 (MaxPooling2 (None, 28, 28, 256)       0         \n",
      "_________________________________________________________________\n",
      "conv2d_8 (Conv2D)            (None, 28, 28, 512)       1180160   \n",
      "_________________________________________________________________\n",
      "conv2d_9 (Conv2D)            (None, 28, 28, 512)       2359808   \n",
      "_________________________________________________________________\n",
      "conv2d_10 (Conv2D)           (None, 28, 28, 512)       2359808   \n",
      "_________________________________________________________________\n",
      "max_pooling2d_4 (MaxPooling2 (None, 14, 14, 512)       0         \n",
      "_________________________________________________________________\n",
      "conv2d_11 (Conv2D)           (None, 14, 14, 512)       2359808   \n",
      "_________________________________________________________________\n",
      "conv2d_12 (Conv2D)           (None, 14, 14, 512)       2359808   \n",
      "_________________________________________________________________\n",
      "conv2d_13 (Conv2D)           (None, 14, 14, 512)       2359808   \n",
      "_________________________________________________________________\n",
      "max_pooling2d_5 (MaxPooling2 (None, 7, 7, 512)         0         \n",
      "_________________________________________________________________\n",
      "flatten_1 (Flatten)          (None, 25088)             0         \n",
      "_________________________________________________________________\n",
      "dense_1 (Dense)              (None, 4096)              102764544 \n",
      "_________________________________________________________________\n",
      "dense_2 (Dense)              (None, 4096)              16781312  \n",
      "_________________________________________________________________\n",
      "dense_3 (Dense)              (None, 1000)              4097000   \n",
      "=================================================================\n",
      "Total params: 138,357,544\n",
      "Trainable params: 138,357,544\n",
      "Non-trainable params: 0\n",
      "_________________________________________________________________\n"
     ]
    }
   ],
   "source": [
    "!pip install keras=='2.8.0'\n",
    "\n",
    "import keras\n",
    "from keras.models import Sequential\n",
    "from keras.layers import Dense, Activation, Dropout, Flatten\n",
    "from keras.layers import Conv2D\n",
    "from keras.layers import MaxPooling2D\n",
    "input_shape = (224, 224, 3)\n",
    "#Instantiate an empty model\n",
    "model = Sequential([\n",
    "  Conv2D(64, (3, 3), input_shape=input_shape, padding='same', activation='relu'),\n",
    "  Conv2D(64, (3, 3), activation='relu', padding='same'),\n",
    "  MaxPooling2D(pool_size=(2, 2), strides=(2, 2)),\n",
    "  Conv2D(128, (3, 3), activation='relu', padding='same'),\n",
    "  Conv2D(128, (3, 3), activation='relu', padding='same',),\n",
    "  MaxPooling2D(pool_size=(2, 2), strides=(2, 2)),\n",
    "  Conv2D(256, (3, 3), activation='relu', padding='same',),\n",
    "  Conv2D(256, (3, 3), activation='relu', padding='same',),\n",
    "  Conv2D(256, (3, 3), activation='relu', padding='same',),\n",
    "  MaxPooling2D(pool_size=(2, 2), strides=(2, 2)),\n",
    "  Conv2D(512, (3, 3), activation='relu', padding='same',),\n",
    "  Conv2D(512, (3, 3), activation='relu', padding='same',),\n",
    "  Conv2D(512, (3, 3), activation='relu', padding='same',),\n",
    "  MaxPooling2D(pool_size=(2, 2), strides=(2, 2)),\n",
    "  Conv2D(512, (3, 3), activation='relu', padding='same',),\n",
    "  Conv2D(512, (3, 3), activation='relu', padding='same',),\n",
    "  Conv2D(512, (3, 3), activation='relu', padding='same',),\n",
    "  MaxPooling2D(pool_size=(2, 2), strides=(2, 2)),\n",
    "  Flatten(),\n",
    "  Dense(4096, activation='relu'),\n",
    "  Dense(4096, activation='relu'),\n",
    "  Dense(1000, activation='softmax')\n",
    "  ])\n",
    "model.summary()\n",
    "# Compile the model\n",
    "model.compile(loss=keras.losses.categorical_crossentropy, optimizer='adam', metrics=[\"accuracy\"])"
   ]
  }
 ],
 "metadata": {
  "accelerator": "GPU",
  "colab": {
   "collapsed_sections": [],
   "machine_shape": "hm",
   "name": "L14aux.ipynb",
   "provenance": []
  },
  "kernelspec": {
   "display_name": "Python 3 (ipykernel)",
   "language": "python",
   "name": "python3"
  },
  "language_info": {
   "codemirror_mode": {
    "name": "ipython",
    "version": 3
   },
   "file_extension": ".py",
   "mimetype": "text/x-python",
   "name": "python",
   "nbconvert_exporter": "python",
   "pygments_lexer": "ipython3",
   "version": "3.9.5"
  }
 },
 "nbformat": 4,
 "nbformat_minor": 4
}
