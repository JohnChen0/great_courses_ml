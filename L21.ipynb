{
 "cells": [
  {
   "cell_type": "markdown",
   "metadata": {
    "colab_type": "text",
    "id": "gN3jicMrRHiE"
   },
   "source": [
    "In this notebook, we will be doing learn a policy for navigating this a grid using reinforcement learning.  We’ll imagine the decision maker in this world is a robot in a field. The field is a grid of 50 locations arranged in  5 rows by 10 columns. There are also five different categories of locations. You can think of the categories as being types of terrain --- say, gravel, grass, shallow water, mud, and asphalt. The robot can tell what category each location is. We can allocate different rewards to each category and then see how the robot navigates in response.\n",
    "\n",
    "\n",
    "Below we import some of the libraries we'll be using and build our grid for navigation, `grid_map`. The grid will have `nrows = 5` rows and `ncols = 10` columns.  The cells of the grid can grid will be one of `ncats = 5` possible values, from 0 to 4."
   ]
  },
  {
   "cell_type": "code",
   "execution_count": null,
   "metadata": {
    "colab": {
     "base_uri": "https://localhost:8080/",
     "height": 170
    },
    "colab_type": "code",
    "executionInfo": {
     "elapsed": 7046,
     "status": "ok",
     "timestamp": 1590505742530,
     "user": {
      "displayName": "JZ Forde",
      "photoUrl": "https://lh3.googleusercontent.com/a-/AOh14GiwSogjDlg0BxeyyCUFJ3t-a6Mt210NSXjrBuLMYw=s64",
      "userId": "11263008094098858557"
     },
     "user_tz": 240
    },
    "id": "VeKJN9JdGHmD",
    "outputId": "519e1a05-2939-471c-b09f-f289047c022d"
   },
   "outputs": [],
   "source": [
    "!pip install keras=='2.3.1'\n",
    "import numpy as np\n",
    "import keras.backend as K\n",
    " \n",
    "# the empty grid\n",
    "nrows = 5\n",
    "ncols = 10\n",
    " \n",
    "# ncats is the number of state categories\n",
    "ncats = 5\n",
    " \n",
    "# map state categories to states\n",
    "# want m s.t. r %*% m = reward function\n",
    "# first, just a map of the indexes\n",
    "grid_map = np.array([ [0,0,0,0,0,2,0,0,1,0],\n",
    "                 [0,1,0,0,0,2,0,0,0,0],\n",
    "                 [0,0,0,0,0,2,1,3,0,0],\n",
    "                 [0,0,0,1,0,2,0,3,0,0],\n",
    "                 [0,0,0,0,0,2,0,3,0,4]])"
   ]
  },
  {
   "cell_type": "markdown",
   "metadata": {
    "colab_type": "text",
    "id": "PaEkUMXJPtoG"
   },
   "source": [
    "Next we'll visualize the map, assigning colors in the order of the `colors` list with `seaborn`:\n",
    "0. white\n",
    "1. blue\n",
    "2. orange\n",
    "3. yellow\n",
    "4. green"
   ]
  },
  {
   "cell_type": "code",
   "execution_count": null,
   "metadata": {
    "colab": {
     "base_uri": "https://localhost:8080/",
     "height": 319
    },
    "colab_type": "code",
    "executionInfo": {
     "elapsed": 984,
     "status": "ok",
     "timestamp": 1590067245417,
     "user": {
      "displayName": "Michael Littman",
      "photoUrl": "https://lh3.googleusercontent.com/a-/AOh14Gh1OI1zp1NevMSZ87UN47k8bTZ--Ijr4v3ORV33Vg=s64",
      "userId": "06751891446459829367"
     },
     "user_tz": 240
    },
    "id": "tVqK8K1zGJI-",
    "outputId": "23a0b7b8-f50c-42da-d751-d10fbb9c299a"
   },
   "outputs": [],
   "source": [
    "import seaborn as sns\n",
    " \n",
    "colors = [\"white\", \"blue\", \"orange\", \"yellow\", \"green\"]\n",
    " \n",
    "sns.heatmap(grid_map, cmap=sns.xkcd_palette(colors), yticklabels=False, xticklabels=False,\n",
    "            annot=False, cbar = False, annot_kws={\"size\": 30}, linewidths=1, linecolor=\"gray\")"
   ]
  },
  {
   "cell_type": "markdown",
   "metadata": {
    "colab_type": "text",
    "id": "JPCU6BzbQGfE"
   },
   "source": [
    "We can assign reward values, `r`, to each of the terrain categories.\n",
    "\n",
    "We will additionally binarize `grid_map`, adding an additional dimension representing the value in the cell to make `matmap`.  Values in `matmap` equal 1 if the value of row and column of that cell in `grid_map` equal is the value of the third dimension of the cell.  \n",
    "\n",
    "The `clip` function keeps the current location in the grid to be within the size of the grid. \n",
    "\n",
    "We define five actions, `acts`, in terms of how each one changes the robot’s row and column. The first decreases the row by 1 and leaves the column unchanged. That corresponds to moving UP in the grid. The other actions correspond to moving right, down, left, and staying in place.\n",
    "\n",
    "We will also build a transition matrix, `mattrans`, that describes the transition. This matrix represents the probability that the given action will cause a one-step transition between any given pair of locationd. We fill in this matrix by looping through all the actions. For each action, we: \n",
    "\n",
    "  - enumerate all possible starting rows and columns,  `i1` and `j1`\n",
    "  - define `i-next` and `j-next` to encode the location that results from adding an action’s row and column increments to the current row and column, then applying `clip` to keep the results in the range of the grid\n",
    "  - loop through all the possible next locations, row `i2` and column `j2`\n",
    "  - fill in the transition matrix with a 1 if the new `i2 == i-next` and `j2==j-next`\n",
    "\n"
   ]
  },
  {
   "cell_type": "code",
   "execution_count": null,
   "metadata": {
    "colab": {},
    "colab_type": "code",
    "id": "T7kjfEnjGNvs"
   },
   "outputs": [],
   "source": [
    "# r is the rewards for the different location categories\n",
    "r = np.array([0, -1, -1, -1, 10])\n",
    " \n",
    "matmap = np.zeros((nrows,ncols,ncats))\n",
    "for i in range(nrows):\n",
    "  for j in range(ncols):\n",
    "    for k in range(ncats):\n",
    "      matmap[i,j,k] = 0+(grid_map[i,j] == k)\n",
    "def clip(v,min,max):\n",
    "  if v < min: v = min\n",
    "  if v > max-1: v = max-1\n",
    "  return(v)\n",
    " \n",
    "acts = [(-1,0), (0,1), (1,0), (0,-1), (0,0)]\n",
    "nacts = len(acts)\n",
    "mattrans = np.zeros((nacts,nrows*ncols,nrows*ncols))\n",
    "for acti in range(nacts):\n",
    "  act = acts[acti]\n",
    "  for i1 in range(nrows):\n",
    "    for j1 in range(ncols):\n",
    "      inext = clip(i1 + act[0],0,nrows)\n",
    "      jnext = clip(j1 + act[1],0,ncols)\n",
    "      for i2 in range(nrows):\n",
    "        for j2 in range(ncols):\n",
    "          mattrans[acti,i1*ncols+j1,i2*ncols+j2] = 0+((i2 == inext) and (j2 == jnext))"
   ]
  },
  {
   "cell_type": "markdown",
   "metadata": {
    "colab_type": "text",
    "id": "VikRoa-DVd7v"
   },
   "source": [
    "We make a keras variable `rk` for the category rewards. Then, we take `matmap` and compute the dot product of `matmap` with `rk` to map each location to its reward value.\n",
    "\n",
    "We use these values as the starting point for our reinforcement-learning process, assigning it to `v`, the robot’s estimated best value for being in each location.\n",
    "\n",
    "We calculate how much to discount future reward compared to current reward with the parameter `gamma`.  When `gamma = 0.9`, a reward retains 90 percent of its value one time step later. When `gamma` is close to 1, the robot cares a lot about making choices that will eventually lead to high reward. When `gamma` is close to zero, the robot only cares about short term gain, even if that means sacrificing opportunities for additional rewards later.\n",
    "\n",
    "We also define `beta`, which indicates how \"carefully\" the robot will choose among closely valued actions. High values of `beta` cause the robot to reliably choose the highest valued actions and  values close to zero result in the robot being more “careless” and choosing randomly among the available options. `beta = 10` results in moderately careful reward maximizing choices."
   ]
  },
  {
   "cell_type": "code",
   "execution_count": null,
   "metadata": {
    "colab": {},
    "colab_type": "code",
    "id": "ZA_bb1U4GSQ2"
   },
   "outputs": [],
   "source": [
    "rk = K.placeholder(len(r))\n",
    "rfk = K.dot(K.constant(matmap),K.reshape(rk,(-1,1)))\n",
    "rffk = K.reshape(rfk,(-1,1))\n",
    " \n",
    "v = K.reshape(rfk,(-1,1))\n",
    "gamma = 0.90\n",
    "beta = 10.0"
   ]
  },
  {
   "cell_type": "markdown",
   "metadata": {
    "colab_type": "text",
    "id": "dRr_6Llsbf6h"
   },
   "source": [
    "The robot will look 50 steps into the future when it makes decisions. That’s a reasonable choice as the robot can make it across the entire grid world in 15 steps.\n",
    "\n",
    "For each step of looking into the future, the robot considers each of the five action calucates an estimate of the value of taking each action.  Each value of `q0`, `q1`, `q2`, `q3`, and `q4` corresponds to the estimated value of actions 0 to 4, by multipling the transition matrix for an action by the value estimate, `v`.\n",
    "\n",
    "`Q` brings all those values together into one array. The array has one row for each location and one column for each action.\n",
    "\n",
    "`pi` represents the robot’s assigned probability to each action in each location. The probability of the robot taking an action in a location is determined by how much reward `Q` predicts it will get from taking that action in that location. The higher the predicted reward, the more likely the robot is to take that action. `beta` controls how the strength of the relationship between reward and probability.\n",
    "\n",
    "The value `v` reflects how good it is to be in each location looking ahead one additional step. The planner multiplies the action matrix times the values, discounted them by gamma, and then added in the reward for being in the current state."
   ]
  },
  {
   "cell_type": "code",
   "execution_count": null,
   "metadata": {
    "colab": {},
    "colab_type": "code",
    "id": "Q7AfS5haGSUI"
   },
   "outputs": [],
   "source": [
    "for _ in range(50):\n",
    "  q0 = K.dot(K.constant(mattrans[0]),v)\n",
    "  q1 = K.dot(K.constant(mattrans[1]),v)\n",
    "  q2 = K.dot(K.constant(mattrans[2]),v)\n",
    "  q3 = K.dot(K.constant(mattrans[3]),v)\n",
    "  q4 = K.dot(K.constant(mattrans[4]),v)\n",
    "  Q = K.concatenate([q0,q1,q2,q3,q4])\n",
    "  pi = K.softmax(beta*Q)\n",
    "  v = rffk + gamma * K.reshape(K.sum(Q * pi,axis=1),(-1,1))"
   ]
  },
  {
   "cell_type": "markdown",
   "metadata": {
    "colab_type": "text",
    "id": "rIMtOowGbgtG"
   },
   "source": [
    "We define the `planner` function in terms of the reward `rk`, our policy `pi`, and our valeus for each action `Q`, we then run the planner to get our final values of the policy `piout` and values `Qout`."
   ]
  },
  {
   "cell_type": "code",
   "execution_count": null,
   "metadata": {
    "colab": {},
    "colab_type": "code",
    "id": "XtlvkpJ7GSWz"
   },
   "outputs": [],
   "source": [
    "planner = K.function([rk], [pi, Q])\n",
    "\n",
    "r = np.array([0, -1, -1, -1, 10])\n",
    "piout, Qout = planner([r])"
   ]
  },
  {
   "cell_type": "markdown",
   "metadata": {
    "colab_type": "text",
    "id": "EEvV5piKbhcR"
   },
   "source": [
    "We also define the function `plotpolicy` which uses `findpol` to visualize the policy's learned trajectories given the grid setup."
   ]
  },
  {
   "cell_type": "code",
   "execution_count": null,
   "metadata": {
    "colab": {},
    "colab_type": "code",
    "id": "BZv26xWxaKpD"
   },
   "outputs": [],
   "source": [
    "def findpol(grid,pi,r,c):\n",
    "  if grid[r][c] != 6: return\n",
    "  maxprob = max(pi[r*ncols+c,:])\n",
    "  a = 6\n",
    "  for ana in range(5):\n",
    "    if pi[r*ncols+c, ana] == maxprob: a = ana\n",
    "  grid[r][c] = a\n",
    "  r += acts[a][0]\n",
    "  c += acts[a][1]\n",
    "  findpol(grid,pi,r,c)\n",
    "\n",
    "def plotpolicy(pi):\n",
    "  grid = []\n",
    "  for r in range(nrows):\n",
    "    line = []\n",
    "    for c in range(ncols):\n",
    "      line += [6]\n",
    "    grid += [line]\n",
    "  findpol(grid,pi,0,0)\n",
    "  for r in range(nrows):\n",
    "    line = \"\"\n",
    "    for c in range(ncols):\n",
    "      line += '^>v<x? '[grid[r][c]]\n",
    "    print(line)"
   ]
  },
  {
   "cell_type": "markdown",
   "metadata": {
    "colab_type": "text",
    "id": "N4Hqi1bNr1Mb"
   },
   "source": [
    "Let's assign different values to the reward `r` and plot the trajectory.  The arrow symbols, `<>^v` indcate the direction of the movement and `x` means motion has stopped.  In this array, the highest rewards are associated with green."
   ]
  },
  {
   "cell_type": "code",
   "execution_count": null,
   "metadata": {
    "colab": {
     "base_uri": "https://localhost:8080/",
     "height": 102
    },
    "colab_type": "code",
    "executionInfo": {
     "elapsed": 330,
     "status": "ok",
     "timestamp": 1590069871426,
     "user": {
      "displayName": "Michael Littman",
      "photoUrl": "https://lh3.googleusercontent.com/a-/AOh14Gh1OI1zp1NevMSZ87UN47k8bTZ--Ijr4v3ORV33Vg=s64",
      "userId": "06751891446459829367"
     },
     "user_tz": 240
    },
    "id": "ZbUSG8Ibi-WI",
    "outputId": "7b754efa-2204-47f6-f2bb-fe29020145f2"
   },
   "outputs": [],
   "source": [
    "r = np.array([0, -1, -1, -1, 10])\n",
    "piout, Qout = planner([r])\n",
    "plotpolicy(piout)"
   ]
  },
  {
   "cell_type": "markdown",
   "metadata": {
    "colab_type": "text",
    "id": "-9r5Vx5xr0oS"
   },
   "source": [
    "In this example, blue, orange, and yellow rewards are very negative."
   ]
  },
  {
   "cell_type": "code",
   "execution_count": null,
   "metadata": {
    "colab": {
     "base_uri": "https://localhost:8080/",
     "height": 102
    },
    "colab_type": "code",
    "executionInfo": {
     "elapsed": 471,
     "status": "ok",
     "timestamp": 1590069965183,
     "user": {
      "displayName": "Michael Littman",
      "photoUrl": "https://lh3.googleusercontent.com/a-/AOh14Gh1OI1zp1NevMSZ87UN47k8bTZ--Ijr4v3ORV33Vg=s64",
      "userId": "06751891446459829367"
     },
     "user_tz": 240
    },
    "id": "xOzE3FWrjPbc",
    "outputId": "47dccdcd-6169-402e-ff05-b1af3b0520d3"
   },
   "outputs": [],
   "source": [
    "r = np.array([0, -10, -10, -10, 1])\n",
    "piout, Qout = planner([r])\n",
    "plotpolicy(piout)"
   ]
  },
  {
   "cell_type": "markdown",
   "metadata": {
    "colab_type": "text",
    "id": "TiFmSpCnrzrE"
   },
   "source": [
    "Here, we put a negative reward "
   ]
  },
  {
   "cell_type": "code",
   "execution_count": null,
   "metadata": {
    "colab": {
     "base_uri": "https://localhost:8080/",
     "height": 102
    },
    "colab_type": "code",
    "executionInfo": {
     "elapsed": 576,
     "status": "ok",
     "timestamp": 1590070060658,
     "user": {
      "displayName": "Michael Littman",
      "photoUrl": "https://lh3.googleusercontent.com/a-/AOh14Gh1OI1zp1NevMSZ87UN47k8bTZ--Ijr4v3ORV33Vg=s64",
      "userId": "06751891446459829367"
     },
     "user_tz": 240
    },
    "id": "p_RqgNGVj0TM",
    "outputId": "22c2089e-4c6a-499b-c1fa-6ff45dc151ac"
   },
   "outputs": [],
   "source": [
    "r = np.array([-1, 0, 0, 0, 1])\n",
    "piout, Qout = planner([r])\n",
    "plotpolicy(piout)"
   ]
  },
  {
   "cell_type": "markdown",
   "metadata": {
    "colab_type": "text",
    "id": "QbTmpF3oryx9"
   },
   "source": [
    "Here, we learn a `loss` function based on a trajectory of actions `trajacts`.\n",
    "\n",
    "We convert this sequence of actions into a sequence of locations, `trajcoords`, using `reduce`."
   ]
  },
  {
   "cell_type": "code",
   "execution_count": null,
   "metadata": {
    "colab": {},
    "colab_type": "code",
    "id": "9seA4m0ZkDAn"
   },
   "outputs": [],
   "source": [
    "from functools import reduce\n",
    " \n",
    "#  0      1     2     3     4\n",
    "# up, right, down, left, stay\n",
    " \n",
    "trajacts = [1,1,2,2,2,2,1,1,1,1,1,1,1,4,4,4,4,4,4,4]\n",
    " \n",
    "trajcoords = reduce((lambda seq, a: seq+[[seq[len(seq)-1][0] + acts[a][0], seq[len(seq)-1][1] + acts[a][1]]]), trajacts, [[0,0]])"
   ]
  },
  {
   "cell_type": "markdown",
   "metadata": {
    "colab_type": "text",
    "id": "4fYHLwSdrxv0"
   },
   "source": [
    "To compute the loss, we run through this sequence of actions and look at the policy `pi`. We find the probability assigned to the the action, sequence pair at timestep `i` and take the negative log of that value and add it to the `loss`."
   ]
  },
  {
   "cell_type": "code",
   "execution_count": null,
   "metadata": {
    "colab": {},
    "colab_type": "code",
    "id": "JvN6tKUzkDD3"
   },
   "outputs": [],
   "source": [
    "loss = 0\n",
    "for i in range(len(trajacts)):\n",
    "  acti = trajacts[i]\n",
    "  state = trajcoords[i]\n",
    "  loss += -K.log(pi[state[0]*ncols+state[1]][acti])"
   ]
  },
  {
   "cell_type": "markdown",
   "metadata": {
    "colab_type": "text",
    "id": "aEZ7Ue6frw60"
   },
   "source": [
    "We use gradient descent to search for a reward function that produces low loss. We pick a `learning_rate` and randomly initialize our values for the reward `r`.\n",
    "\n",
    "We compute the gradient of the loss with respect to the rewards, which we store in the variable, `grads`. Next, we create a keras function that takes the rewards, `rk` as input and produces the `loss` and the `grads` as output, `iterate`.\n",
    "\n",
    "Over 5000 steps, we will update `r` based in the `learning_rate` and `grads_value` of the gradient.  We also will print our `loss_value` every 100 steps."
   ]
  },
  {
   "cell_type": "code",
   "execution_count": null,
   "metadata": {
    "colab": {
     "base_uri": "https://localhost:8080/",
     "height": 867
    },
    "colab_type": "code",
    "executionInfo": {
     "elapsed": 24491,
     "status": "ok",
     "timestamp": 1590070145944,
     "user": {
      "displayName": "Michael Littman",
      "photoUrl": "https://lh3.googleusercontent.com/a-/AOh14Gh1OI1zp1NevMSZ87UN47k8bTZ--Ijr4v3ORV33Vg=s64",
      "userId": "06751891446459829367"
     },
     "user_tz": 240
    },
    "id": "1IHk5wZWkDG_",
    "outputId": "da2232f1-6576-46fd-f744-af9225e7ca62"
   },
   "outputs": [],
   "source": [
    "learning_rate = 0.001\n",
    " \n",
    "r = np.random.rand(5)*2-1\n",
    " \n",
    "grads = K.gradients(loss, rk)[0]\n",
    "iterate = K.function([rk], [loss, grads])\n",
    " \n",
    "for iter in range(5000):\n",
    "  loss_value, grads_value = iterate([r])\n",
    "  r -= learning_rate * grads_value\n",
    "  if iter % 100 == 0: print(loss_value, r)"
   ]
  }
 ],
 "metadata": {
  "colab": {
   "collapsed_sections": [],
   "name": "L21.ipynb",
   "provenance": []
  },
  "kernelspec": {
   "display_name": "Python 3 (ipykernel)",
   "language": "python",
   "name": "python3"
  },
  "language_info": {
   "codemirror_mode": {
    "name": "ipython",
    "version": 3
   },
   "file_extension": ".py",
   "mimetype": "text/x-python",
   "name": "python",
   "nbconvert_exporter": "python",
   "pygments_lexer": "ipython3",
   "version": "3.10.11"
  }
 },
 "nbformat": 4,
 "nbformat_minor": 4
}
