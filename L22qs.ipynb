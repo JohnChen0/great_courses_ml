{
  "nbformat": 4,
  "nbformat_minor": 0,
  "metadata": {
    "colab": {
      "provenance": [],
      "collapsed_sections": [],
      "include_colab_link": true
    },
    "language_info": {
      "codemirror_mode": {
        "name": "ipython",
        "version": 3
      },
      "file_extension": ".py",
      "mimetype": "text/x-python",
      "name": "python",
      "nbconvert_exporter": "python",
      "pygments_lexer": "ipython3",
      "version": "3.6.8"
    },
    "kernelspec": {
      "display_name": "Python 3",
      "language": "python",
      "name": "python3"
    }
  },
  "cells": [
    {
      "cell_type": "markdown",
      "metadata": {
        "id": "view-in-github",
        "colab_type": "text"
      },
      "source": [
        "<a href=\"https://colab.research.google.com/github/mlittmancs/great_courses_ml/blob/master/L22qs.ipynb\" target=\"_parent\"><img src=\"https://colab.research.google.com/assets/colab-badge.svg\" alt=\"Open In Colab\"/></a>"
      ]
    },
    {
      "cell_type": "markdown",
      "metadata": {
        "id": "Gfm8F50nyDLT"
      },
      "source": [
        "When we applied machine-learning algorithms to the Titanic data from Lesson 9 on machine-learning pitfalls, we found they concluded that being female was associated with higher survival rates. The higher rates are due, in large part, to the fact that passengers were treated differently by the crew and given first access to the lifeboats. It does not account for whether female passengers were more likely to survive, all other things being equal. Can a causal analysis provide a more nuanced perspective on the data? Apply the `dowhy` learner to the data, using “Sex” as the treatment and “Survived” as the outcome. Look at the average treatment effect and the causal estimate. What do you conclude about the impact of sex on survival?"
      ]
    },
    {
      "cell_type": "markdown",
      "metadata": {
        "id": "3Mg8hucHiy7f"
      },
      "source": [
        "Below we install the Python library by Microsoft, `dowhy`. It can learn causal graphs from data and carry out do-calculus derivations to find ways of using.\n",
        "\n",
        "We also import some additional libraries we'll be using."
      ]
    },
    {
      "cell_type": "code",
      "metadata": {
        "id": "4YOM9o563e-O",
        "colab": {
          "base_uri": "https://localhost:8080/"
        },
        "outputId": "07344874-5c97-463d-de32-2f896b9f0379"
      },
      "source": [
        "# install the dowhy library\n",
        " \n",
        "!pip install dowhy\n",
        " \n",
        "# import required libraries\n",
        " \n",
        "import os, sys\n",
        "sys.path.append(os.path.abspath(\"../../\"))\n",
        "import dowhy\n",
        "from dowhy import CausalModel\n",
        "import pandas as pd\n",
        "import numpy as np"
      ],
      "execution_count": 3,
      "outputs": [
        {
          "output_type": "stream",
          "name": "stdout",
          "text": [
            "Looking in indexes: https://pypi.org/simple, https://us-python.pkg.dev/colab-wheels/public/simple/\n",
            "Requirement already satisfied: dowhy in /usr/local/lib/python3.7/dist-packages (0.8)\n",
            "Requirement already satisfied: pandas>=0.24 in /usr/local/lib/python3.7/dist-packages (from dowhy) (1.3.5)\n",
            "Requirement already satisfied: networkx>=2.0 in /usr/local/lib/python3.7/dist-packages (from dowhy) (2.6.3)\n",
            "Requirement already satisfied: scipy in /usr/local/lib/python3.7/dist-packages (from dowhy) (1.7.3)\n",
            "Requirement already satisfied: statsmodels in /usr/local/lib/python3.7/dist-packages (from dowhy) (0.12.2)\n",
            "Requirement already satisfied: pydot>=1.4 in /usr/local/lib/python3.7/dist-packages (from dowhy) (1.4.2)\n",
            "Requirement already satisfied: numpy>=1.15 in /usr/local/lib/python3.7/dist-packages (from dowhy) (1.21.6)\n",
            "Requirement already satisfied: scikit-learn in /usr/local/lib/python3.7/dist-packages (from dowhy) (1.0.2)\n",
            "Requirement already satisfied: sympy>=1.4 in /usr/local/lib/python3.7/dist-packages (from dowhy) (1.7.1)\n",
            "Requirement already satisfied: python-dateutil>=2.7.3 in /usr/local/lib/python3.7/dist-packages (from pandas>=0.24->dowhy) (2.8.2)\n",
            "Requirement already satisfied: pytz>=2017.3 in /usr/local/lib/python3.7/dist-packages (from pandas>=0.24->dowhy) (2022.5)\n",
            "Requirement already satisfied: pyparsing>=2.1.4 in /usr/local/lib/python3.7/dist-packages (from pydot>=1.4->dowhy) (3.0.9)\n",
            "Requirement already satisfied: six>=1.5 in /usr/local/lib/python3.7/dist-packages (from python-dateutil>=2.7.3->pandas>=0.24->dowhy) (1.15.0)\n",
            "Requirement already satisfied: mpmath>=0.19 in /usr/local/lib/python3.7/dist-packages (from sympy>=1.4->dowhy) (1.2.1)\n",
            "Requirement already satisfied: joblib>=0.11 in /usr/local/lib/python3.7/dist-packages (from scikit-learn->dowhy) (1.2.0)\n",
            "Requirement already satisfied: threadpoolctl>=2.0.0 in /usr/local/lib/python3.7/dist-packages (from scikit-learn->dowhy) (3.1.0)\n",
            "Requirement already satisfied: patsy>=0.5 in /usr/local/lib/python3.7/dist-packages (from statsmodels->dowhy) (0.5.3)\n"
          ]
        }
      ]
    },
    {
      "cell_type": "markdown",
      "metadata": {
        "id": "c3RxrNnkjEKz"
      },
      "source": [
        "We download and process the `data` below."
      ]
    },
    {
      "cell_type": "code",
      "metadata": {
        "id": "NeYNfl5E3gL8",
        "colab": {
          "base_uri": "https://localhost:8080/",
          "height": 206
        },
        "outputId": "7ac2595c-fee1-41c7-80f8-5efce76d4d1d"
      },
      "source": [
        "data= pd.read_csv(\"https://github.com/mlittmancs/great_courses_ml/raw/master/data/ship.csv\", header = None)\n",
        "# get rid of title row\n",
        "col = ['PassengerId','Survived','Pclass','Name','Sex','Age','SibSp','Parch','Ticket','Fare','Cabin','Embarked']\n",
        "data.columns = col\n",
        "data = data[data.PassengerId != \"PassengerId\"]\n",
        "# data = data.astype({\"Survived\": bool})\n",
        "data = data.astype({\"Survived\": int})\n",
        "data[\"SexB\"] = data.Sex == 'female'\n",
        "\n",
        "data.head()"
      ],
      "execution_count": 4,
      "outputs": [
        {
          "output_type": "execute_result",
          "data": {
            "text/plain": [
              "  PassengerId  Survived Pclass  \\\n",
              "1           1         0      3   \n",
              "2           2         1      1   \n",
              "3           3         1      3   \n",
              "4           4         1      1   \n",
              "5           5         0      3   \n",
              "\n",
              "                                                Name     Sex Age SibSp Parch  \\\n",
              "1                            Braund, Mr. Owen Harris    male  22     1     0   \n",
              "2  Cumings, Mrs. John Bradley (Florence Briggs Th...  female  38     1     0   \n",
              "3                             Heikkinen, Miss. Laina  female  26     0     0   \n",
              "4       Futrelle, Mrs. Jacques Heath (Lily May Peel)  female  35     1     0   \n",
              "5                           Allen, Mr. William Henry    male  35     0     0   \n",
              "\n",
              "             Ticket     Fare Cabin Embarked   SexB  \n",
              "1         A/5 21171     7.25   NaN        S  False  \n",
              "2          PC 17599  71.2833   C85        C   True  \n",
              "3  STON/O2. 3101282    7.925   NaN        S   True  \n",
              "4            113803     53.1  C123        S   True  \n",
              "5            373450     8.05   NaN        S  False  "
            ],
            "text/html": [
              "\n",
              "  <div id=\"df-bd115eab-e772-42db-880a-088651b69a64\">\n",
              "    <div class=\"colab-df-container\">\n",
              "      <div>\n",
              "<style scoped>\n",
              "    .dataframe tbody tr th:only-of-type {\n",
              "        vertical-align: middle;\n",
              "    }\n",
              "\n",
              "    .dataframe tbody tr th {\n",
              "        vertical-align: top;\n",
              "    }\n",
              "\n",
              "    .dataframe thead th {\n",
              "        text-align: right;\n",
              "    }\n",
              "</style>\n",
              "<table border=\"1\" class=\"dataframe\">\n",
              "  <thead>\n",
              "    <tr style=\"text-align: right;\">\n",
              "      <th></th>\n",
              "      <th>PassengerId</th>\n",
              "      <th>Survived</th>\n",
              "      <th>Pclass</th>\n",
              "      <th>Name</th>\n",
              "      <th>Sex</th>\n",
              "      <th>Age</th>\n",
              "      <th>SibSp</th>\n",
              "      <th>Parch</th>\n",
              "      <th>Ticket</th>\n",
              "      <th>Fare</th>\n",
              "      <th>Cabin</th>\n",
              "      <th>Embarked</th>\n",
              "      <th>SexB</th>\n",
              "    </tr>\n",
              "  </thead>\n",
              "  <tbody>\n",
              "    <tr>\n",
              "      <th>1</th>\n",
              "      <td>1</td>\n",
              "      <td>0</td>\n",
              "      <td>3</td>\n",
              "      <td>Braund, Mr. Owen Harris</td>\n",
              "      <td>male</td>\n",
              "      <td>22</td>\n",
              "      <td>1</td>\n",
              "      <td>0</td>\n",
              "      <td>A/5 21171</td>\n",
              "      <td>7.25</td>\n",
              "      <td>NaN</td>\n",
              "      <td>S</td>\n",
              "      <td>False</td>\n",
              "    </tr>\n",
              "    <tr>\n",
              "      <th>2</th>\n",
              "      <td>2</td>\n",
              "      <td>1</td>\n",
              "      <td>1</td>\n",
              "      <td>Cumings, Mrs. John Bradley (Florence Briggs Th...</td>\n",
              "      <td>female</td>\n",
              "      <td>38</td>\n",
              "      <td>1</td>\n",
              "      <td>0</td>\n",
              "      <td>PC 17599</td>\n",
              "      <td>71.2833</td>\n",
              "      <td>C85</td>\n",
              "      <td>C</td>\n",
              "      <td>True</td>\n",
              "    </tr>\n",
              "    <tr>\n",
              "      <th>3</th>\n",
              "      <td>3</td>\n",
              "      <td>1</td>\n",
              "      <td>3</td>\n",
              "      <td>Heikkinen, Miss. Laina</td>\n",
              "      <td>female</td>\n",
              "      <td>26</td>\n",
              "      <td>0</td>\n",
              "      <td>0</td>\n",
              "      <td>STON/O2. 3101282</td>\n",
              "      <td>7.925</td>\n",
              "      <td>NaN</td>\n",
              "      <td>S</td>\n",
              "      <td>True</td>\n",
              "    </tr>\n",
              "    <tr>\n",
              "      <th>4</th>\n",
              "      <td>4</td>\n",
              "      <td>1</td>\n",
              "      <td>1</td>\n",
              "      <td>Futrelle, Mrs. Jacques Heath (Lily May Peel)</td>\n",
              "      <td>female</td>\n",
              "      <td>35</td>\n",
              "      <td>1</td>\n",
              "      <td>0</td>\n",
              "      <td>113803</td>\n",
              "      <td>53.1</td>\n",
              "      <td>C123</td>\n",
              "      <td>S</td>\n",
              "      <td>True</td>\n",
              "    </tr>\n",
              "    <tr>\n",
              "      <th>5</th>\n",
              "      <td>5</td>\n",
              "      <td>0</td>\n",
              "      <td>3</td>\n",
              "      <td>Allen, Mr. William Henry</td>\n",
              "      <td>male</td>\n",
              "      <td>35</td>\n",
              "      <td>0</td>\n",
              "      <td>0</td>\n",
              "      <td>373450</td>\n",
              "      <td>8.05</td>\n",
              "      <td>NaN</td>\n",
              "      <td>S</td>\n",
              "      <td>False</td>\n",
              "    </tr>\n",
              "  </tbody>\n",
              "</table>\n",
              "</div>\n",
              "      <button class=\"colab-df-convert\" onclick=\"convertToInteractive('df-bd115eab-e772-42db-880a-088651b69a64')\"\n",
              "              title=\"Convert this dataframe to an interactive table.\"\n",
              "              style=\"display:none;\">\n",
              "        \n",
              "  <svg xmlns=\"http://www.w3.org/2000/svg\" height=\"24px\"viewBox=\"0 0 24 24\"\n",
              "       width=\"24px\">\n",
              "    <path d=\"M0 0h24v24H0V0z\" fill=\"none\"/>\n",
              "    <path d=\"M18.56 5.44l.94 2.06.94-2.06 2.06-.94-2.06-.94-.94-2.06-.94 2.06-2.06.94zm-11 1L8.5 8.5l.94-2.06 2.06-.94-2.06-.94L8.5 2.5l-.94 2.06-2.06.94zm10 10l.94 2.06.94-2.06 2.06-.94-2.06-.94-.94-2.06-.94 2.06-2.06.94z\"/><path d=\"M17.41 7.96l-1.37-1.37c-.4-.4-.92-.59-1.43-.59-.52 0-1.04.2-1.43.59L10.3 9.45l-7.72 7.72c-.78.78-.78 2.05 0 2.83L4 21.41c.39.39.9.59 1.41.59.51 0 1.02-.2 1.41-.59l7.78-7.78 2.81-2.81c.8-.78.8-2.07 0-2.86zM5.41 20L4 18.59l7.72-7.72 1.47 1.35L5.41 20z\"/>\n",
              "  </svg>\n",
              "      </button>\n",
              "      \n",
              "  <style>\n",
              "    .colab-df-container {\n",
              "      display:flex;\n",
              "      flex-wrap:wrap;\n",
              "      gap: 12px;\n",
              "    }\n",
              "\n",
              "    .colab-df-convert {\n",
              "      background-color: #E8F0FE;\n",
              "      border: none;\n",
              "      border-radius: 50%;\n",
              "      cursor: pointer;\n",
              "      display: none;\n",
              "      fill: #1967D2;\n",
              "      height: 32px;\n",
              "      padding: 0 0 0 0;\n",
              "      width: 32px;\n",
              "    }\n",
              "\n",
              "    .colab-df-convert:hover {\n",
              "      background-color: #E2EBFA;\n",
              "      box-shadow: 0px 1px 2px rgba(60, 64, 67, 0.3), 0px 1px 3px 1px rgba(60, 64, 67, 0.15);\n",
              "      fill: #174EA6;\n",
              "    }\n",
              "\n",
              "    [theme=dark] .colab-df-convert {\n",
              "      background-color: #3B4455;\n",
              "      fill: #D2E3FC;\n",
              "    }\n",
              "\n",
              "    [theme=dark] .colab-df-convert:hover {\n",
              "      background-color: #434B5C;\n",
              "      box-shadow: 0px 1px 3px 1px rgba(0, 0, 0, 0.15);\n",
              "      filter: drop-shadow(0px 1px 2px rgba(0, 0, 0, 0.3));\n",
              "      fill: #FFFFFF;\n",
              "    }\n",
              "  </style>\n",
              "\n",
              "      <script>\n",
              "        const buttonEl =\n",
              "          document.querySelector('#df-bd115eab-e772-42db-880a-088651b69a64 button.colab-df-convert');\n",
              "        buttonEl.style.display =\n",
              "          google.colab.kernel.accessAllowed ? 'block' : 'none';\n",
              "\n",
              "        async function convertToInteractive(key) {\n",
              "          const element = document.querySelector('#df-bd115eab-e772-42db-880a-088651b69a64');\n",
              "          const dataTable =\n",
              "            await google.colab.kernel.invokeFunction('convertToInteractive',\n",
              "                                                     [key], {});\n",
              "          if (!dataTable) return;\n",
              "\n",
              "          const docLinkHtml = 'Like what you see? Visit the ' +\n",
              "            '<a target=\"_blank\" href=https://colab.research.google.com/notebooks/data_table.ipynb>data table notebook</a>'\n",
              "            + ' to learn more about interactive tables.';\n",
              "          element.innerHTML = '';\n",
              "          dataTable['output_type'] = 'display_data';\n",
              "          await google.colab.output.renderOutput(dataTable, element);\n",
              "          const docLink = document.createElement('div');\n",
              "          docLink.innerHTML = docLinkHtml;\n",
              "          element.appendChild(docLink);\n",
              "        }\n",
              "      </script>\n",
              "    </div>\n",
              "  </div>\n",
              "  "
            ]
          },
          "metadata": {},
          "execution_count": 4
        }
      ]
    },
    {
      "cell_type": "markdown",
      "metadata": {
        "id": "OmSpbSATixTz"
      },
      "source": [
        "We create a `CausalModel` to process the data using the `data`, `treatement`, and `y_factual` `outcome`.  We call `identify_effect` on the `model` to derive a causal effect.\n",
        "\n",
        "Note that when you run this routine, the code reminds you that it’s making some educated guesses about the way that the unobserved confounders can impact the model. The `dowhy` software steers users away from taking the results at face value, and into looking more closely at possible causal effects."
      ]
    },
    {
      "cell_type": "code",
      "metadata": {
        "id": "yRy549WP3gRf",
        "colab": {
          "base_uri": "https://localhost:8080/"
        },
        "outputId": "7a991e0b-4d90-4d00-8191-0d5aaa7d503b"
      },
      "source": [
        "# Create a causal model from the data and the \"x\" variables as common causes.\n",
        " \n",
        "model=CausalModel(\n",
        "        data = data,\n",
        "        treatment='SexB',\n",
        "        outcome='Survived',\n",
        "        common_causes=['Age', 'SibSp', 'Parch', 'Fare', 'Embarked'])\n",
        " \n",
        "#Identify the causal effect\n",
        "identified_estimand = model.identify_effect()"
      ],
      "execution_count": 5,
      "outputs": [
        {
          "output_type": "stream",
          "name": "stderr",
          "text": [
            "WARNING:dowhy.causal_model:Causal Graph not provided. DoWhy will construct a graph based on data inputs.\n"
          ]
        }
      ]
    },
    {
      "cell_type": "markdown",
      "metadata": {
        "id": "s1dXs06gj_q_"
      },
      "source": [
        "We estimate the effect of the treatment on the outcomes in two ways by calculating the “average treatment effect” or `ATE`. That’s a correlational measure of treatment and outcomes.\n",
        "\n",
        "To estimate the average treatment effect, we separatethe instances where the treatment is given, `data_1`, from the instances where the treatment was NOT given, `data_0`. The `ATE` is the difference between the means in these two sets.\n"
      ]
    },
    {
      "cell_type": "code",
      "metadata": {
        "id": "e4NeLVL63gVL",
        "colab": {
          "base_uri": "https://localhost:8080/"
        },
        "outputId": "5474b9a6-629b-4c4a-e616-193fc4a47598"
      },
      "source": [
        "data_1 = data[data[\"SexB\"]==True]\n",
        "data_0 = data[data[\"SexB\"]==False]\n",
        "print(\"ATE\", np.mean(data_1[\"Survived\"])- np.mean(data_0[\"Survived\"]))"
      ],
      "execution_count": 6,
      "outputs": [
        {
          "output_type": "stream",
          "name": "stdout",
          "text": [
            "ATE 0.5531300709799203\n"
          ]
        }
      ]
    },
    {
      "cell_type": "markdown",
      "metadata": {
        "id": "-4XVGSIplaQ2"
      },
      "source": [
        "We also use Dowhy’s `estimate_effect` function to more precisely characterize the treatment effect. We use `backdoor_propensity_score_weighting`, which uses the do-calculus to re-assess how much of those gains are really attributable to the treatment and not other factors."
      ]
    },
    {
      "cell_type": "code",
      "metadata": {
        "id": "z27Rk57Y3gal",
        "colab": {
          "base_uri": "https://localhost:8080/"
        },
        "outputId": "94e17935-d79c-4348-cf16-10799c88a611"
      },
      "source": [
        "estimate = model.estimate_effect(identified_estimand, method_name=\"backdoor.propensity_score_weighting\"\n",
        ")\n",
        " \n",
        "print(\"Causal Estimate is \" + str(estimate.value))"
      ],
      "execution_count": 7,
      "outputs": [
        {
          "output_type": "stream",
          "name": "stdout",
          "text": [
            "propensity_score_weighting\n",
            "Causal Estimate is 0.49675316209478515\n"
          ]
        },
        {
          "output_type": "stream",
          "name": "stderr",
          "text": [
            "/usr/local/lib/python3.7/dist-packages/sklearn/utils/validation.py:993: DataConversionWarning: A column-vector y was passed when a 1d array was expected. Please change the shape of y to (n_samples, ), for example using ravel().\n",
            "  y = column_or_1d(y, warn=True)\n"
          ]
        }
      ]
    }
  ]
}