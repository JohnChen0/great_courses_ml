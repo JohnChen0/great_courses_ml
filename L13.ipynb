{
 "cells": [
  {
   "cell_type": "markdown",
   "metadata": {
    "id": "_ZnbwJGToM_l"
   },
   "source": [
    "In this notebook, we train a model to learn a strategy for Blackjack using a decision tree regression.\n",
    "\n",
    "Below we write an `actionpicker` function that decides what `action` to play given the `observation` from the Blackjack simulator, `env`.\n",
    "`epsilon` percent of the time, we decide on a random `action`.\n",
    "\n",
    "We also write a `train` function fits our decision tree regression to our `dat` and `labs`."
   ]
  },
  {
   "cell_type": "code",
   "execution_count": null,
   "metadata": {
    "id": "9nI21j7xoDA6"
   },
   "outputs": [],
   "source": [
    "def actionpicker(clf, env, observation, epsilon):\n",
    "  if clf == 0:\n",
    "    action = env.action_space.sample()\n",
    "  else:\n",
    "    pred = clf.predict([observation + (0,), observation + (1,)])\n",
    "    action = 1*(pred[1]>pred[0])\n",
    "  if random.random() < epsilon:\n",
    "    action = env.action_space.sample()\n",
    "  return(action)\n",
    "\n",
    "def train(dat, lab):\n",
    "  clf = tree.DecisionTreeRegressor(max_leaf_nodes = 6)\t\n",
    "  clf = clf.fit(dat, lab)\n",
    "  return(clf)"
   ]
  },
  {
   "cell_type": "markdown",
   "metadata": {
    "id": "2Li0Pfimp_eT"
   },
   "source": [
    "In the next code block, we train our Blackjack playing model and visualize the descision tree regression we have learned.  We will train our model 5 times, playing 100,000 rounds, and print the number of rounds it won each time."
   ]
  },
  {
   "cell_type": "code",
   "execution_count": null,
   "metadata": {
    "id": "WUzI-EbQX-xJ"
   },
   "outputs": [],
   "source": [
    "# action 0 is stay\n",
    "# action 1 is hit\n",
    "\n",
    "import gym\n",
    "import graphviz \t\t\n",
    "from sklearn import tree\n",
    "import random\n",
    "\n",
    "env = gym.make(\"Blackjack-v0\")\n",
    "epochs = 5\n",
    "N = 100000\n",
    "epsilon = 0.1\n",
    "clf = 0\n",
    "\n",
    "for epoch in range(epochs):\n",
    "  dat = []\n",
    "  lab = []\n",
    "  wins = 0\n",
    "  for _ in range(N):\n",
    "    done = False\n",
    "    observation = env.reset()\n",
    "    while not done:\n",
    "      # pick an action\n",
    "      action = actionpicker(clf, env, observation, epsilon)\n",
    "\n",
    "      dat += [observation + (action,)]\n",
    "      observation, reward, done, info = env.step(action)\n",
    "      if done:\n",
    "        target = reward\n",
    "      elif epoch == 0:\n",
    "        target = 0\n",
    "      else:\n",
    "        pred = clf.predict([observation + (0,), observation + (1,)])\n",
    "        target = max(pred)\n",
    "      lab += [target]\n",
    "      if reward > 0.0: wins += 1\n",
    "  clf = train(dat, lab)\n",
    "\n",
    "  dot_data = tree.export_graphviz(clf, # class_names = [-1, 0, 1],\n",
    "                                feature_names = [\"holding\", \"dealer\", \"ace\", \"action\"], filled=True, rounded=True) \n",
    "  graph = graphviz.Source(dot_data)\t\n",
    "  env.close()\n",
    "#  print(dat)\n",
    "  print(wins)\n",
    "graph"
   ]
  },
  {
   "cell_type": "code",
   "execution_count": null,
   "metadata": {
    "id": "5W2VkiyunSuf"
   },
   "outputs": [],
   "source": []
  }
 ],
 "metadata": {
  "kernelspec": {
   "display_name": "Python 3 (ipykernel)",
   "language": "python",
   "name": "python3"
  },
  "language_info": {
   "codemirror_mode": {
    "name": "ipython",
    "version": 3
   },
   "file_extension": ".py",
   "mimetype": "text/x-python",
   "name": "python",
   "nbconvert_exporter": "python",
   "pygments_lexer": "ipython3",
   "version": "3.10.5"
  }
 },
 "nbformat": 4,
 "nbformat_minor": 4
}
